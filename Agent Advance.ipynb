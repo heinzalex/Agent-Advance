{
 "cells": [
  {
   "cell_type": "markdown",
   "metadata": {},
   "source": [
    "# Broker number of transaction past 12 months"
   ]
  },
  {
   "cell_type": "markdown",
   "metadata": {},
   "source": [
    "#### Count for specific Broker Active"
   ]
  },
  {
   "cell_type": "code",
   "execution_count": null,
   "metadata": {},
   "outputs": [],
   "source": [
    "CREATE OR REPLACE VIEW total_active AS \n",
    "SELECT DISTINCT\n",
    "\tcc_property_id,\n",
    "\tlisting_office_name,\n",
    "\tstate,\n",
    "\tstatus,\n",
    "\tCOUNT(\n",
    "\t\tlisting_office_name)\n",
    "FROM\n",
    "\tmls_reza\n",
    "WHERE\n",
    "\tdate >= dateadd (\n",
    "\t\tDAY, - 365, getdate ())\n",
    "GROUP BY\n",
    "\tlisting_office_name,\n",
    "\tstatus,\n",
    "\tstate,\n",
    "\tcc_property_id\n",
    "HAVING\n",
    "\tstatus = 'Active'\n",
    "\tAND listing_office_name = 'The Lund Team, Inc'\n",
    "ORDER BY\n",
    "\tcc_property_id DESC;\n",
    "\n",
    "SELECT DISTINCT\n",
    "\tlisting_office_name,\n",
    "\tCOUNT(cc_property_id)\n",
    "FROM\n",
    "\ttotal_active\n",
    "GROUP BY\n",
    "\tlisting_office_name\n"
   ]
  },
  {
   "cell_type": "markdown",
   "metadata": {},
   "source": [
    "#### Count for specific Broker Pending"
   ]
  },
  {
   "cell_type": "code",
   "execution_count": null,
   "metadata": {},
   "outputs": [],
   "source": [
    "CREATE OR REPLACE VIEW total_pending AS \n",
    "SELECT DISTINCT\n",
    "\tcc_property_id,\n",
    "\tlisting_office_name,\n",
    "\tstate,\n",
    "\tstatus,\n",
    "\tCOUNT(\n",
    "\t\tlisting_office_name)\n",
    "FROM\n",
    "\tmls_reza\n",
    "WHERE\n",
    "\tdate >= dateadd (\n",
    "\t\tDAY, - 365, getdate ())\n",
    "GROUP BY\n",
    "\tlisting_office_name,\n",
    "\tstatus,\n",
    "\tstate,\n",
    "\tcc_property_id\n",
    "HAVING\n",
    "\tstatus = 'Pending'\n",
    "\tAND listing_office_name = 'The Lund Team, Inc'\n",
    "ORDER BY\n",
    "\tcc_property_id DESC;\n",
    "\n",
    "SELECT DISTINCT\n",
    "\tlisting_office_name,\n",
    "\tCOUNT(cc_property_id)\n",
    "FROM\n",
    "\ttotal_active\n",
    "GROUP BY\n",
    "\tlisting_office_name"
   ]
  },
  {
   "cell_type": "markdown",
   "metadata": {},
   "source": [
    "# Broker GMV of all transactions"
   ]
  },
  {
   "cell_type": "markdown",
   "metadata": {},
   "source": [
    "#### Last 365 Days of Individual Brokers w/ Sale status & GMV for Average and Sum BY BROKERS"
   ]
  },
  {
   "cell_type": "code",
   "execution_count": null,
   "metadata": {},
   "outputs": [],
   "source": [
    "-- Last 365 Days of Individual Brokers w/ Sale status & GMV AVG/SUM BY STATE\n",
    "\n",
    "CREATE OR REPLACE VIEW gmvsale AS \n",
    "SELECT DISTINCT\n",
    "\tlisting_office_name,\n",
    "\tstate,\n",
    "\tstatus,\n",
    "\tCOUNT(\n",
    "\t\tlisting_office_name),\n",
    "\tprice,\n",
    "\tcc_property_id,\n",
    "\tMAX(date)\n",
    "FROM\n",
    "\tmls_reza\n",
    "WHERE\n",
    "\tdate >= dateadd (\n",
    "\t\tDAY, - 365, getdate ())\n",
    "GROUP BY\n",
    "\tlisting_office_name,\n",
    "\tcc_property_id,\n",
    "\tstatus,\n",
    "\tstate,\n",
    "\tprice\n",
    "HAVING\n",
    "\tstatus = 'Sale'\n",
    "\tAND listing_office_name = 'Park Place Brokers'\n",
    "ORDER BY\n",
    "\tlisting_office_name,\n",
    "\tstate ASC;\n",
    "\n",
    "SELECT DISTINCT\n",
    "\tlisting_office_name,\n",
    "\tAVG(price),\n",
    "\tSUM(price)\n",
    "FROM\n",
    "\tgmvsale \n",
    "GROUP BY\n",
    "\tlisting_office_name"
   ]
  },
  {
   "cell_type": "markdown",
   "metadata": {},
   "source": [
    "# Broker \n",
    "#### % of Marketshare County"
   ]
  },
  {
   "cell_type": "code",
   "execution_count": null,
   "metadata": {},
   "outputs": [],
   "source": [
    "CREATE OR REPLACE VIEW perc_marketshare_county AS \n",
    "SELECT DISTINCT\n",
    "\tlisting_office_name,\n",
    "\tcc_property_address_county,\n",
    "\tstate,\n",
    "\tstatus,\n",
    "\tCOUNT(\n",
    "\t\tlisting_office_name),\n",
    "\tprice,\n",
    "\tcc_property_id,\n",
    "\tMAX(date)\n",
    "FROM\n",
    "\tmls_reza\n",
    "WHERE\n",
    "\tdate >= dateadd (\n",
    "\t\tDAY, - 365, getdate ())\n",
    "GROUP BY\n",
    "\tlisting_office_name,\n",
    "\tcc_property_address_county,\n",
    "\tcc_property_id,\n",
    "\tstatus,\n",
    "\tstate,\n",
    "\tprice\n",
    "HAVING\n",
    "\tstatus = 'Sale'\n",
    "ORDER BY\n",
    "\tlisting_office_name,\n",
    "\tstate ASC;\n",
    "\n",
    "\n",
    "SELECT DISTINCT\n",
    "\tlisting_office_name,\n",
    "\tcc_property_address_county,\n",
    "\tAVG(price),\n",
    "\tSUM(price),\n",
    "\tSUM(price) * 100.0 / SUM(SUM(price)) OVER () AS Percentage\n",
    "FROM\n",
    "\tperc_marketshare_county \n",
    "GROUP BY\n",
    "\tlisting_office_name,\n",
    "\tcc_property_address_county\n",
    "HAVING cc_property_address_county = 'LOS ANGELES'\n",
    "ORDER BY \n",
    "\tPercentage DESC;"
   ]
  },
  {
   "cell_type": "markdown",
   "metadata": {},
   "source": [
    "#### % of Marketshare State"
   ]
  },
  {
   "cell_type": "code",
   "execution_count": null,
   "metadata": {},
   "outputs": [],
   "source": [
    "-- Last 365 Days of Individual Brokers w/ Sale status for % of Marketshare. State\n",
    "\n",
    "SELECT DISTINCT\n",
    "\tlisting_office_name,\n",
    "\tstate,\n",
    "\tAVG(price),\n",
    "\tSUM(price),\n",
    "\tSUM(price) * 100.0 / SUM(SUM(price)) OVER () AS Percentage\n",
    "FROM\n",
    "\tperc_marketshare_county \n",
    "GROUP BY\n",
    "\tlisting_office_name,\n",
    "\tstate\n",
    "HAVING state = 'CA'\n",
    "ORDER BY \n",
    "\tPercentage DESC;"
   ]
  },
  {
   "cell_type": "markdown",
   "metadata": {},
   "source": [
    "# Broker \n",
    "#### of Agents Under Broker"
   ]
  },
  {
   "cell_type": "code",
   "execution_count": null,
   "metadata": {},
   "outputs": [],
   "source": [
    "SELECT DISTINCT\n",
    "\trelated_lastname_primary,\n",
    "\trelated_lic_number,\n",
    "\tCOUNT(lic_number)\n",
    "FROM\n",
    "\treal_estate_agents\n",
    "WHERE\n",
    "\tlic_type = 'Salesperson'\n",
    "\tAND related_lastname_primary = 'The Lund Team Inc'\n",
    "GROUP BY\n",
    "\trelated_lastname_primary,\n",
    "\trelated_lic_number\n",
    "ORDER BY\n",
    "\tCOUNT DESC;"
   ]
  },
  {
   "cell_type": "markdown",
   "metadata": {},
   "source": [
    "#### Top performing Agents"
   ]
  },
  {
   "cell_type": "code",
   "execution_count": null,
   "metadata": {},
   "outputs": [],
   "source": [
    "# Top Performer List\n",
    "CREATE OR REPLACE VIEW top_agents AS \n",
    "SELECT DISTINCT\n",
    "\tlisting_office_name,\n",
    "\tlisting_agent_name,\n",
    "\tstate,\n",
    "\tstatus,\n",
    "\tCOUNT(\n",
    "\t\tlisting_agent_name),\n",
    "\tprice,\n",
    "\t(cc_property_id),\n",
    "\tMAX(date)\n",
    "FROM\n",
    "\tmls_reza\n",
    "WHERE\n",
    "\tdate >= dateadd (\n",
    "\t\tDAY, - 365, getdate ())\n",
    "GROUP BY\n",
    "\tlisting_office_name,\n",
    "\tlisting_agent_name,\n",
    "\tcc_property_id,\n",
    "\tstatus,\n",
    "\tstate,\n",
    "\tprice\n",
    "HAVING\n",
    "\tstatus = 'Sale';\n",
    "\n",
    "\n",
    "SELECT DISTINCT\n",
    "\tlisting_office_name,\n",
    "\tlisting_agent_name,\n",
    "\tAVG(price) AS average,\n",
    "\tSUM(price) AS sum\n",
    "FROM\n",
    "\ttop_agents \n",
    "GROUP BY\n",
    "\tlisting_office_name,\n",
    "\tlisting_agent_name,\n",
    "\tstatus\n",
    "ORDER BY \n",
    "\taverage DESC;"
   ]
  },
  {
   "cell_type": "markdown",
   "metadata": {},
   "source": [
    "#### Dispersion Report"
   ]
  },
  {
   "cell_type": "code",
   "execution_count": null,
   "metadata": {},
   "outputs": [],
   "source": [
    "#Dispersion Report\n",
    "SELECT DISTINCT\n",
    "\tt.listing_office_name,\n",
    "\tt.listing_agent_name,\n",
    "\tt.price * 100 / gsum AS perc\n",
    "FROM\n",
    "\ttop_agents t\n",
    "\tJOIN (\n",
    "\t\tSELECT\n",
    "\t\t\tlisting_office_name,\n",
    "\t\t\tSUM(price) AS gsum\n",
    "\t\tFROM\n",
    "\t\t\tmls_reza\n",
    "\t\tGROUP BY\n",
    "\t\t\tlisting_office_name) tmp ON tmp.listing_office_name = t.listing_office_name\n",
    "ORDER BY\n",
    "\tperc DESC"
   ]
  },
  {
   "cell_type": "markdown",
   "metadata": {},
   "source": [
    "## Agent Performance"
   ]
  },
  {
   "cell_type": "markdown",
   "metadata": {},
   "source": [
    "#### number of transactions last 12 months"
   ]
  },
  {
   "cell_type": "code",
   "execution_count": null,
   "metadata": {},
   "outputs": [],
   "source": [
    "-- 1 number of transactions last 12 months\n",
    "\n",
    "CREATE OR REPLACE VIEW agent_transaction_numbers AS \n",
    "SELECT DISTINCT\n",
    "\tlisting_agent_name,\n",
    "\tlisting_agent_license_number,\n",
    "\tstatus,\n",
    "\tCOUNT(\n",
    "\t\tlisting_agent_name),\n",
    "\tprice,\n",
    "\tcc_property_id,\n",
    "\tMAX(date)\n",
    "FROM\n",
    "\tmls_reza\n",
    "WHERE\n",
    "\tdate >= dateadd (\n",
    "\t\tDAY, - 365, getdate ())\n",
    "GROUP BY\n",
    "\tlisting_office_name,\n",
    "\tlisting_agent_name,\n",
    "\tlisting_agent_license_number,\n",
    "\tcc_property_id,\n",
    "\tstatus,\n",
    "\tprice\n",
    "HAVING\n",
    "\tstatus = 'Sale';\n",
    "\n",
    "\n",
    "SELECT DISTINCT\n",
    "\tlisting_agent_name,\n",
    "\tlisting_agent_license_number,\n",
    "\tstatus,\n",
    "\tCOUNT(listing_agent_name)\n",
    "FROM\n",
    "\tagent_transaction_numbers\n",
    "GROUP BY\n",
    "\tlisting_agent_name,\n",
    "\tlisting_agent_license_number,\n",
    "\tstatus\n",
    "HAVING\n",
    "\tstatus = 'Sale'\n",
    "ORDER BY\n",
    "\tCOUNT DESC;\n"
   ]
  },
  {
   "cell_type": "markdown",
   "metadata": {},
   "source": [
    "#### Avg transaction price"
   ]
  },
  {
   "cell_type": "code",
   "execution_count": null,
   "metadata": {},
   "outputs": [],
   "source": [
    "-- 2 Avg transaction price\n",
    "SELECT DISTINCT\n",
    "\tlisting_agent_name,\n",
    "\tlisting_agent_license_number,\n",
    "\tstatus,\n",
    "\tAVG(price),\n",
    "\tCOUNT(listing_agent_name)\n",
    "FROM\n",
    "\tagent_transaction_numbers\n",
    "GROUP BY\n",
    "\tlisting_agent_name,\n",
    "\tlisting_agent_license_number,\n",
    "\tstatus\n",
    "HAVING\n",
    "\tstatus = 'Sale'\n",
    "ORDER BY\n",
    "\tCOUNT DESC;"
   ]
  },
  {
   "cell_type": "markdown",
   "metadata": {},
   "source": [
    "#### number of days to close from first active"
   ]
  },
  {
   "cell_type": "code",
   "execution_count": null,
   "metadata": {},
   "outputs": [],
   "source": [
    "-- 3 number of days to close from first active\n",
    "SELECT\n",
    "\tcc_property_id,\n",
    "\tlisting_office_name,\n",
    "\tlisting_agent_name,\n",
    "\tdate\n",
    "FROM\n",
    "\tmls_reza\n",
    "LIMIT 100 \n",
    "\n",
    "CREATE OR REPLACE VIEW prop AS\n",
    "SELECT\n",
    "\tcc_property_id,\n",
    "\tcc_record_id,\n",
    "\tlisting_office_name,\n",
    "\tlisting_agent_name,\n",
    "\tstatus,\n",
    "\tdate\n",
    "FROM\n",
    "\tmls_reza\n",
    "WHERE\n",
    "\tlisting_agent_name = 'Garrett K. Lund'\n",
    "\tAND status = 'Sale'\n",
    "\n",
    "\n",
    "SELECT\n",
    "\t*\n",
    "FROM\n",
    "\tprop \n",
    "\t\n",
    "CREATE OR REPLACE VIEW transactions AS\n",
    "\tSELECT\n",
    "\t\tmls_reza.cc_property_id,\n",
    "\t\tmls_reza.listing_office_name,\n",
    "\t\tmls_reza.status,\n",
    "\t\tdate(\n",
    "\t\t\tmls_reza.date),\n",
    "\t\tprop.date AS sales_date\n",
    "\tFROM\n",
    "\t\tmls_reza\n",
    "\t\tINNER JOIN prop ON mls_reza.cc_property_id = prop.cc_property_id\n",
    "\t\t\tAND lower(\n",
    "\t\t\t\tmls_reza.listing_office_name) = lower(\n",
    "\t\tprop.listing_office_name)\n",
    "WHERE\n",
    "\tmls_reza.status <> 'Sale'\n",
    "\t\n",
    "\t\n",
    "SELECT *\n",
    "FROM transactions\n",
    "\t\t\n",
    "CREATE OR REPLACE VIEW days_to_close AS\t\t\n",
    "SELECT\n",
    "\tcc_property_id,\n",
    "\tlower(listing_office_name) AS office_name,\n",
    "\tstatus,\n",
    "\tmax(date),\n",
    "\tsales_date,\n",
    "\tdate(sales_date) - max(date) AS Number_days_to_close\n",
    "FROM\n",
    "\ttransactions\n",
    "GROUP BY\n",
    "\tcc_property_id,\n",
    "\toffice_name,\n",
    "\tsales_date,\n",
    "\tstatus\n",
    "HAVING\n",
    "\tstatus = 'Active'\n",
    "\t\n",
    "SELECT office_name,\n",
    "AVG(number_days_to_close)\n",
    "FROM days_to_close\n",
    "GROUP BY office_name"
   ]
  },
  {
   "cell_type": "markdown",
   "metadata": {},
   "source": [
    "#### number of days to close from first pending"
   ]
  },
  {
   "cell_type": "code",
   "execution_count": null,
   "metadata": {},
   "outputs": [],
   "source": [
    "-- 4 number of days to close from first pending\n",
    "SELECT\n",
    "\tcc_property_id,\n",
    "\tlisting_office_name,\n",
    "\tlisting_agent_name,\n",
    "\tdate\n",
    "FROM\n",
    "\tmls_reza\n",
    "LIMIT 100 \n",
    "\n",
    "CREATE OR REPLACE VIEW prop AS\n",
    "SELECT\n",
    "\tcc_property_id,\n",
    "\tcc_record_id,\n",
    "\tlisting_office_name,\n",
    "\tlisting_agent_name,\n",
    "\tstatus,\n",
    "\tdate\n",
    "FROM\n",
    "\tmls_reza\n",
    "WHERE\n",
    "\tlisting_agent_name = 'Garrett K. Lund'\n",
    "\tAND status = 'Sale'\n",
    "\n",
    "\n",
    "SELECT\n",
    "\t*\n",
    "FROM\n",
    "\tprop \n",
    "\t\n",
    "CREATE OR REPLACE VIEW transactions AS\n",
    "\tSELECT\n",
    "\t\tmls_reza.cc_property_id,\n",
    "\t\tmls_reza.listing_office_name,\n",
    "\t\tmls_reza.status,\n",
    "\t\tdate(\n",
    "\t\t\tmls_reza.date),\n",
    "\t\tprop.date AS sales_date\n",
    "\tFROM\n",
    "\t\tmls_reza\n",
    "\t\tINNER JOIN prop ON mls_reza.cc_property_id = prop.cc_property_id\n",
    "\t\t\tAND lower(\n",
    "\t\t\t\tmls_reza.listing_office_name) = lower(\n",
    "\t\tprop.listing_office_name)\n",
    "WHERE\n",
    "\tmls_reza.status <> 'Sale'\n",
    "\t\n",
    "\t\n",
    "SELECT *\n",
    "FROM transactions\n",
    "\t\t\n",
    "CREATE OR REPLACE VIEW days_to_close AS\t\t\n",
    "SELECT\n",
    "\tcc_property_id,\n",
    "\tlower(listing_office_name) AS office_name,\n",
    "\tstatus,\n",
    "\tmax(date),\n",
    "\tsales_date,\n",
    "\tdate(sales_date) - max(date) AS Number_days_to_close\n",
    "FROM\n",
    "\ttransactions\n",
    "GROUP BY\n",
    "\tcc_property_id,\n",
    "\toffice_name,\n",
    "\tsales_date,\n",
    "\tstatus\n",
    "HAVING\n",
    "\tstatus = 'Pending'\n",
    "\t\n",
    "SELECT office_name,\n",
    "AVG(number_days_to_close)\n",
    "FROM days_to_close\n",
    "GROUP BY office_name"
   ]
  },
  {
   "cell_type": "markdown",
   "metadata": {},
   "source": [
    "#### Current listings"
   ]
  },
  {
   "cell_type": "code",
   "execution_count": null,
   "metadata": {},
   "outputs": [],
   "source": [
    "CREATE OR REPLACE VIEW lastestpropevent AS\n",
    "\tSELECT DISTINCT\n",
    "\t\tcc_property_id,\n",
    "\t\tmax(\n",
    "\t\t\tmls_reza.date) AS latest\n",
    "\tFROM\n",
    "\t\tmls_reza\n",
    "\tGROUP BY\n",
    "\t\tcc_property_id \n",
    "\t\n",
    "CREATE OR REPLACE VIEW lateststatus AS \n",
    "SELECT DISTINCT\n",
    "\t\t*\n",
    "FROM (\n",
    "\t\tSELECT\n",
    "\t\t\tlastestevent.*,\n",
    "\t\t\tmls_reza.status,\n",
    "\t\t\tmls_reza.listing_agent_name,\n",
    "\t\t\tmls_reza.listing_office_name\n",
    "\t\tFROM\n",
    "\t\t\tlastestevent\n",
    "\t\t\t\tINNER JOIN mls_reza ON lastestevent.latest = mls_reza.date\n",
    "\t\t\tAND lastestevent.cc_property_id = mls_reza.cc_property_id\n",
    "\t\tWHERE status = 'Active'\n",
    "\t\tORDER BY\n",
    "\t\t\tlatest DESC)"
   ]
  },
  {
   "cell_type": "markdown",
   "metadata": {},
   "source": [
    "#### Number of fallouts"
   ]
  },
  {
   "cell_type": "code",
   "execution_count": null,
   "metadata": {},
   "outputs": [],
   "source": [
    "-- 6 Number of fallouts\n",
    "CREATE OR REPLACE VIEW agent_fallout_numbers AS \n",
    "SELECT DISTINCT\n",
    "\tlisting_agent_name,\n",
    "\tlisting_agent_license_number,\n",
    "\tstatus,\n",
    "\tCOUNT(\n",
    "\t\tlisting_agent_name),\n",
    "\tprice,\n",
    "\tcc_property_id,\n",
    "\tMAX(date)\n",
    "FROM\n",
    "\tmls_reza\n",
    "WHERE\n",
    "\tdate >= dateadd (\n",
    "\t\tDAY, - 365, getdate ())\n",
    "GROUP BY\n",
    "\tlisting_office_name,\n",
    "\tlisting_agent_name,\n",
    "\tlisting_agent_license_number,\n",
    "\tcc_property_id,\n",
    "\tstatus,\n",
    "\tprice\n",
    "HAVING\n",
    "\tstatus != 'Active'\n",
    "\tAND status != 'Pending'\n",
    "\tAND status != 'Sale'\n",
    "\tAND status != 'Contingent'\n",
    "LIMIT 100;\n",
    "\n",
    "\n",
    "SELECT DISTINCT\n",
    "\tlisting_agent_name,\n",
    "\tlisting_agent_license_number,\n",
    "\tstatus,\n",
    "\tCOUNT(listing_agent_name),\n",
    "\tAVG(price)\n",
    "FROM\n",
    "\tagent_fallout_numbers\n",
    "GROUP BY\n",
    "\tlisting_agent_name,\n",
    "\tlisting_agent_license_number,\n",
    "\tstatus\n",
    "ORDER BY\n",
    "\tCOUNT DESC;"
   ]
  },
  {
   "cell_type": "markdown",
   "metadata": {},
   "source": [
    "#### Current Pendings"
   ]
  },
  {
   "cell_type": "code",
   "execution_count": null,
   "metadata": {},
   "outputs": [],
   "source": [
    "CREATE OR REPLACE VIEW lastestpropevent AS\n",
    "\tSELECT DISTINCT\n",
    "\t\tcc_property_id,\n",
    "\t\tmax(\n",
    "\t\t\tmls_reza.date) AS latest\n",
    "\tFROM\n",
    "\t\tmls_reza\n",
    "\tGROUP BY\n",
    "\t\tcc_property_id \n",
    "\t\n",
    "CREATE OR REPLACE VIEW lateststatus AS \n",
    "SELECT DISTINCT\n",
    "\t\t*\n",
    "FROM (\n",
    "\t\tSELECT\n",
    "\t\t\tlastestevent.*,\n",
    "\t\t\tmls_reza.status,\n",
    "\t\t\tmls_reza.listing_agent_name,\n",
    "\t\t\tmls_reza.listing_office_name\n",
    "\t\tFROM\n",
    "\t\t\tlastestevent\n",
    "\t\t\t\tINNER JOIN mls_reza ON lastestevent.latest = mls_reza.date\n",
    "\t\t\tAND lastestevent.cc_property_id = mls_reza.cc_property_id\n",
    "\t\tWHERE status = 'Pending'\n",
    "\t\tORDER BY\n",
    "\t\t\tlatest DESC)"
   ]
  },
  {
   "cell_type": "markdown",
   "metadata": {},
   "source": [
    "# Subject Property \n",
    "#### Original & Latest Price with Price Per Square Foot"
   ]
  },
  {
   "cell_type": "code",
   "execution_count": null,
   "metadata": {},
   "outputs": [],
   "source": [
    "-- 8,9,10 Subject Property Original & Latest Price with Price Per Square Foot\n",
    "\n",
    "SELECT DISTINCT\n",
    "\tcc_property_address_display_1,\n",
    "\tcc_property_address_display_2,\n",
    "\tlisting_office_name,\n",
    "\tlisting_agent_name,\n",
    "\tmls_number,\n",
    "\tstatus,\n",
    "\tFIRST_VALUE(price) OVER (PARTITION BY mls_number) AS Original_Price,\n",
    "\tLAST_VALUE(price) OVER (PARTITION BY mls_number) AS Current_Price,\n",
    "\tFIRST_VALUE(market_ppsf) OVER (PARTITION BY mls_number) AS Original_ppsf,\n",
    "\tLAST_VALUE(market_ppsf) OVER (PARTITION BY mls_number) AS Current_ppsf\n",
    "FROM\n",
    "\tmls\n",
    "GROUP BY\n",
    "\tcc_property_address_display_1,\n",
    "\tcc_property_address_display_2,\n",
    "\tlisting_office_name,\n",
    "\tlisting_agent_name,\n",
    "\tprice,\n",
    "\tstatus,\n",
    "\tmls_number,\n",
    "\tmarket_ppsf\n",
    "HAVING\n",
    "\tstatus = 'Active'\n",
    "ORDER BY\n",
    "\tmls_number; "
   ]
  },
  {
   "cell_type": "markdown",
   "metadata": {},
   "source": [
    "### Property DNA"
   ]
  },
  {
   "cell_type": "code",
   "execution_count": null,
   "metadata": {},
   "outputs": [],
   "source": []
  },
  {
   "cell_type": "markdown",
   "metadata": {},
   "source": [
    "#### Listing History"
   ]
  },
  {
   "cell_type": "code",
   "execution_count": null,
   "metadata": {},
   "outputs": [],
   "source": [
    "-- Number of times listed in the past 24 months.\n",
    "\n",
    "SELECT DISTINCT\n",
    "\tcc_property_address_display_1,\n",
    "\tcc_property_address_display_2,\n",
    "\tzip,\n",
    "\tCOUNT(cc_property_address_display_1)\n",
    "FROM\n",
    "\tmls_reza\n",
    "WHERE\n",
    "\tdate >= dateadd (DAY, - 730, getdate ())\n",
    "GROUP BY\n",
    "\tmls_number,\n",
    "\tstatus,\n",
    "\tcc_property_address_display_1,\n",
    "\tcc_property_address_display_2,\n",
    "\tzip\n",
    "HAVING\n",
    "\tstatus = 'Active'\n",
    "ORDER BY\n",
    "\tCOUNT DESC; "
   ]
  },
  {
   "cell_type": "markdown",
   "metadata": {},
   "source": [
    "# Don't need to look at yet start and below  - Work in progress"
   ]
  },
  {
   "cell_type": "markdown",
   "metadata": {},
   "source": [
    "#### Finding Counts for Agents with Brokers including Null\n"
   ]
  },
  {
   "cell_type": "code",
   "execution_count": null,
   "metadata": {},
   "outputs": [],
   "source": [
    "-- Finding Counts for Agents with Brokers including Null\n",
    "\n",
    "SELECT\n",
    "    related_lastname_primary, COUNT(lic_type), lic_type\n",
    "FROM\n",
    "    real_estate_agents\n",
    "GROUP BY\n",
    "    lic_type, related_lastname_primary\n",
    "HAVING lic_type = 'Salesperson'\n",
    "ORDER BY\n",
    "COUNT DESC; "
   ]
  },
  {
   "cell_type": "markdown",
   "metadata": {},
   "source": [
    "#### Finding Counts for Agents with Brokers without Null\n"
   ]
  },
  {
   "cell_type": "code",
   "execution_count": null,
   "metadata": {},
   "outputs": [],
   "source": [
    "-- Finding Counts for Agents with Brokers not including Null\n",
    "\n",
    "SELECT DISTINCT\n",
    "    related_lastname_primary, COUNT(lic_type), lic_type\n",
    "FROM\n",
    "    real_estate_agents\n",
    "GROUP BY\n",
    "    lic_type, related_lastname_primary\n",
    "HAVING lic_type = 'Salesperson' AND related_lastname_primary != ''\n",
    "ORDER BY\n",
    "COUNT DESC;  "
   ]
  },
  {
   "cell_type": "markdown",
   "metadata": {},
   "source": [
    "#### Last 365 days of Individual Brokers w/ Active Listings in U.S.\n"
   ]
  },
  {
   "cell_type": "code",
   "execution_count": null,
   "metadata": {},
   "outputs": [],
   "source": [
    "-- Last 365 of Individual Brokers w/ Active U.S.\n",
    "\n",
    "SELECT DISTINCT\n",
    "\tlisting_office_name, status, COUNT(listing_office_name)\n",
    "FROM mls_reza\n",
    "WHERE date >= dateadd(DAY, -365, getdate())\n",
    "GROUP BY listing_office_name, status\n",
    "HAVING status = 'Active'\n",
    "ORDER BY COUNT DESC;"
   ]
  },
  {
   "cell_type": "markdown",
   "metadata": {},
   "source": [
    "#### Last 365 days of Individual Brokers w/ Pending Listings in U.S."
   ]
  },
  {
   "cell_type": "code",
   "execution_count": null,
   "metadata": {},
   "outputs": [],
   "source": [
    "-- Last 12 Months of Individual Brokers w/ Pending\n",
    "\n",
    "SELECT DISTINCT\n",
    "\tlisting_office_name, status, COUNT(listing_office_name)\n",
    "FROM mls_reza\n",
    "WHERE date >= dateadd(DAY, -365, getdate())\n",
    "GROUP BY listing_office_name, status\n",
    "HAVING status = 'Pending'\n",
    "ORDER BY COUNT DESC;"
   ]
  },
  {
   "cell_type": "markdown",
   "metadata": {},
   "source": [
    "#### Last 365 Days of Individual Brokers w/ Active BY STATE"
   ]
  },
  {
   "cell_type": "code",
   "execution_count": null,
   "metadata": {},
   "outputs": [],
   "source": [
    "-- Last 365 Days of Individual Brokers w/ Active BY STATE\n",
    "\n",
    "SELECT DISTINCT\n",
    "\tlisting_office_name, state, status, COUNT(listing_office_name)\n",
    "FROM mls_reza\n",
    "WHERE date >= dateadd(DAY, -365, getdate())\n",
    "GROUP BY listing_office_name, status, state\n",
    "HAVING status = 'Active'\n",
    "ORDER BY COUNT DESC;"
   ]
  },
  {
   "cell_type": "markdown",
   "metadata": {},
   "source": [
    "#### Last 365 Days of Individual Brokers w/ Pending BY STATE"
   ]
  },
  {
   "cell_type": "code",
   "execution_count": null,
   "metadata": {},
   "outputs": [],
   "source": [
    "-- Last 365 Days of Individual Brokers w/ Pending BY STATE\n",
    "\n",
    "SELECT DISTINCT\n",
    "\tlisting_office_name, state, status, COUNT(listing_office_name)\n",
    "FROM mls_reza\n",
    "WHERE date >= dateadd(DAY, -365, getdate())\n",
    "GROUP BY listing_office_name, status, state\n",
    "HAVING status = 'Pending'\n",
    "ORDER BY COUNT DESC;"
   ]
  },
  {
   "cell_type": "markdown",
   "metadata": {},
   "source": [
    "#### Last 365 Days of Individual Brokers w/ ALL STATUS BY STATE"
   ]
  },
  {
   "cell_type": "code",
   "execution_count": null,
   "metadata": {},
   "outputs": [],
   "source": [
    "-- Last 365 Days of Individual Brokers w/ ALL STATUS BY STATE\n",
    "\n",
    "SELECT DISTINCT\n",
    "\tlisting_office_name, state, status, COUNT(status)\n",
    "FROM mls_reza\n",
    "WHERE date >= dateadd(DAY, -365, getdate())\n",
    "GROUP BY listing_office_name, state, status\n",
    "ORDER BY listing_office_name, state ASC;"
   ]
  },
  {
   "cell_type": "markdown",
   "metadata": {},
   "source": [
    "#### Last 365 days of Individual Brokers w/ Active BY COUNTY"
   ]
  },
  {
   "cell_type": "code",
   "execution_count": null,
   "metadata": {},
   "outputs": [],
   "source": [
    "-- Last 365 Days of Individual Brokers w/ Active BY COUNTY\n",
    "\n",
    "SELECT DISTINCT\n",
    "\tlisting_office_name, cc_property_address_county, status, COUNT(listing_office_name)\n",
    "FROM mls_reza\n",
    "WHERE date >= dateadd(DAY, -365, getdate())\n",
    "GROUP BY listing_office_name, status, cc_property_address_county\n",
    "HAVING status = 'Active'\n",
    "ORDER BY COUNT DESC;"
   ]
  },
  {
   "cell_type": "markdown",
   "metadata": {},
   "source": [
    "#### Last 365 Days of Individual Brokers w/ Pending BY COUNTY"
   ]
  },
  {
   "cell_type": "code",
   "execution_count": null,
   "metadata": {},
   "outputs": [],
   "source": [
    "-- Last 365 Days of Individual Brokers w/ Pending BY COUNTY\n",
    "\n",
    "SELECT DISTINCT\n",
    "\tlisting_office_name, cc_property_address_county, status, COUNT(listing_office_name)\n",
    "FROM mls_reza\n",
    "WHERE date >= dateadd(DAY, -365, getdate())\n",
    "GROUP BY listing_office_name, status, cc_property_address_county\n",
    "HAVING status = 'Pending'\n",
    "ORDER BY COUNT DESC;"
   ]
  },
  {
   "cell_type": "markdown",
   "metadata": {},
   "source": [
    "#### Last 365 Days of Individual Brokers w/ ALL STATUS BY COUNTY"
   ]
  },
  {
   "cell_type": "code",
   "execution_count": null,
   "metadata": {},
   "outputs": [],
   "source": [
    "-- Last 365 Days of Individual Brokers w/ ALL STATUS BY COUNTY\n",
    "\n",
    "SELECT DISTINCT\n",
    "\tlisting_office_name, cc_property_address_county, status, COUNT(status)\n",
    "FROM mls_reza\n",
    "WHERE date >= dateadd(DAY, -365, getdate())\n",
    "GROUP BY listing_office_name, cc_property_address_county, status\n",
    "ORDER BY listing_office_name, cc_property_address_county ASC;"
   ]
  },
  {
   "cell_type": "code",
   "execution_count": null,
   "metadata": {},
   "outputs": [],
   "source": [
    "-- Last 365 Days of Individual Brokers w/ Sale status for % of Marketshare. County\n",
    "\n",
    "SELECT DISTINCT\n",
    "\tlisting_office_name,\n",
    "\tcc_property_address_county,\n",
    "\tstatus,\n",
    "\tCOUNT(listing_office_name),\n",
    "\tSUM(price),\n",
    "\tSUM(price) * 100.0 / SUM(SUM(price)) OVER () AS Percentage\n",
    "FROM\n",
    "\tmls_reza\n",
    "WHERE\n",
    "\tdate >= dateadd (DAY, - 365, getdate ())\n",
    "GROUP BY\n",
    "\tlisting_office_name,\n",
    "\tcc_property_address_county,\n",
    "\tstatus\n",
    "HAVING\n",
    "\tstatus = 'Sale'\n",
    "ORDER BY\n",
    "\tPercentage DESC;"
   ]
  },
  {
   "cell_type": "markdown",
   "metadata": {},
   "source": [
    "#### Last 365 Days of Individual Brokers w/ Sale status & GMV for Average and Sum BY COUNTY"
   ]
  },
  {
   "cell_type": "code",
   "execution_count": null,
   "metadata": {},
   "outputs": [],
   "source": [
    "-- Last 365 Days of Individual Brokers w/ Sale status & GMV AVG/SUM BY COUNTY\n",
    "\n",
    "SELECT DISTINCT\n",
    "\tlisting_office_name,\n",
    "\tcc_property_address_county,\n",
    "\tstatus,\n",
    "\tCOUNT(listing_office_name),\n",
    "\tAVG(price),\n",
    "\tSUM(price)\n",
    "FROM\n",
    "\tmls_reza\n",
    "WHERE\n",
    "\tdate >= dateadd (DAY, - 365, getdate ())\n",
    "GROUP BY\n",
    "\tlisting_office_name,\n",
    "\tcc_property_address_county,\n",
    "\tstatus\n",
    "HAVING\n",
    "\tstatus = 'Sale'\n",
    "ORDER BY\n",
    "\tlisting_office_name,\n",
    "\tcc_property_address_county ASC;"
   ]
  },
  {
   "cell_type": "markdown",
   "metadata": {},
   "source": [
    "#### Last 365 Days of Individual Brokers w/ all status & GMV for Average and Sum BY STATE"
   ]
  },
  {
   "cell_type": "code",
   "execution_count": null,
   "metadata": {},
   "outputs": [],
   "source": [
    "-- Last 365 Days of Individual Brokers w/ all status & GMV AVG/SUM BY STATE\n",
    "\n",
    "SELECT DISTINCT\n",
    "\tlisting_office_name,\n",
    "\tstate,\n",
    "\tstatus,\n",
    "\tCOUNT(listing_office_name),\n",
    "\tAVG(price),\n",
    "\tSUM(price)\n",
    "FROM\n",
    "\tmls_reza\n",
    "WHERE\n",
    "\tdate >= dateadd (DAY, - 365, getdate ())\n",
    "GROUP BY\n",
    "\tlisting_office_name,\n",
    "\tstate,\n",
    "\tstatus\n",
    "ORDER BY\n",
    "\tlisting_office_name,\n",
    "\tstate ASC;"
   ]
  },
  {
   "cell_type": "markdown",
   "metadata": {},
   "source": [
    "#### Last 365 Days of Individual Brokers w/ all status & GMV for Average and Sum BY COUNTY"
   ]
  },
  {
   "cell_type": "code",
   "execution_count": null,
   "metadata": {},
   "outputs": [],
   "source": [
    "-- Last 365 Days of Individual Brokers w/ all status & GMV AVG/SUM BY COUNTY\n",
    "SELECT DISTINCT\n",
    "\tlisting_office_name,\n",
    "\tcc_property_address_county,\n",
    "\tstatus,\n",
    "\tCOUNT(listing_office_name),\n",
    "\tAVG(price) AS AVERAGE_GMV,\n",
    "\tSUM(price) AS TOTAL_GMV\n",
    "FROM\n",
    "\tmls_reza\n",
    "WHERE\n",
    "\tdate >= dateadd (DAY, - 365, getdate ())\n",
    "GROUP BY\n",
    "\tlisting_office_name,\n",
    "\tcc_property_address_county,\n",
    "\tstatus\n",
    "ORDER BY\n",
    "\tlisting_office_name,\n",
    "\tcc_property_address_county ASC;"
   ]
  },
  {
   "cell_type": "code",
   "execution_count": null,
   "metadata": {},
   "outputs": [],
   "source": [
    "SELECT DISTINCT\n",
    "    listing_office_name, state, status, COUNT(listing_office_name), LAST_VALUE(mls_number) OVER (PARTITION BY mls_number) AS alex\n",
    "FROM\n",
    "    mls_reza\n",
    "WHERE record_date_time >= dateadd(DAY, -365, getdate())\n",
    "GROUP BY\n",
    "    listing_office_name, listing_agent_name, status, mls_number, state\n",
    "HAVING status = 'Active'\n",
    "ORDER BY COUNT DESC; \n",
    "\n",
    "SELECT t1.*\n",
    "FROM mls_reza t1\n",
    "WHERE t1.listing_office_name = (SELECT t2.listing_office_name\n",
    "                 FROM mls_reza t2\n",
    "                 WHERE t2.listing_office_name = t1.listing_office_name            \n",
    "                 ORDER BY t2.listing_office_name DESC\n",
    "                 LIMIT 1)"
   ]
  },
  {
   "cell_type": "markdown",
   "metadata": {},
   "source": [
    "#### LAST Active and Pending Date Progress"
   ]
  },
  {
   "cell_type": "code",
   "execution_count": null,
   "metadata": {},
   "outputs": [],
   "source": [
    "SELECT\n",
    "\tactive.listing_office_name,\n",
    "\tMAX(active.record_date_time) AS active_date,\n",
    "\tactive.address,\n",
    "\tactive.status,\n",
    "\tpending.status\n",
    "FROM\n",
    "\tmls_reza active\n",
    "\tINNER JOIN mls_reza pending ON pending.listing_office_name = active.listing_office_name\n",
    "WHERE\n",
    "\tactive.listing_office_name = 'The Lund Team, Inc'\n",
    "\tAND active.status = 'Active'\n",
    "\tAND pending.listing_office_name = 'The Lund Team, Inc'\n",
    "\tAND pending.status = 'Pending'\n",
    "GROUP BY\n",
    "\tactive.listing_office_name,\n",
    "\tactive.address,\n",
    "\tactive.status,\n",
    "\tpending.status\n",
    "LIMIT 10;"
   ]
  },
  {
   "cell_type": "code",
   "execution_count": null,
   "metadata": {},
   "outputs": [],
   "source": []
  },
  {
   "cell_type": "code",
   "execution_count": null,
   "metadata": {},
   "outputs": [],
   "source": []
  },
  {
   "cell_type": "markdown",
   "metadata": {},
   "source": [
    "#### LAST Active and Sale Date Progress"
   ]
  },
  {
   "cell_type": "code",
   "execution_count": null,
   "metadata": {},
   "outputs": [],
   "source": [
    "SELECT\n",
    "\tactive.listing_office_name,\n",
    "\tMAX(active.date) AS active_date,\n",
    "\tactive.address,\n",
    "\tactive.status,\n",
    "\tsold.status\n",
    "FROM\n",
    "\tmls_reza active\n",
    "\tINNER JOIN mls_reza sold ON sold.listing_office_name = active.listing_office_name\n",
    "WHERE\n",
    "\tactive.listing_office_name = 'The Lund Team, Inc'\n",
    "\tAND active.status = 'Active'\n",
    "\tAND sold.listing_office_name = 'The Lund Team, Inc'\n",
    "\tAND sold.status = 'Sale'\n",
    "GROUP BY\n",
    "\tactive.listing_office_name,\n",
    "\tactive.address,\n",
    "\tactive.status,\n",
    "\tsold.status\n",
    "LIMIT 10;"
   ]
  },
  {
   "cell_type": "code",
   "execution_count": null,
   "metadata": {},
   "outputs": [],
   "source": [
    "SELECT DISTINCT\n",
    "\tlisting_office_name, cc_property_address_county, status, COUNT(listing_agent_name)\n",
    "FROM mls_reza\n",
    "WHERE record_date_time >= dateadd(DAY, -365, getdate())\n",
    "GROUP BY listing_office_name, status, cc_property_address_county, listing_agent_name\n",
    "HAVING status = 'Active'\n",
    "ORDER BY COUNT ASC;"
   ]
  },
  {
   "cell_type": "code",
   "execution_count": null,
   "metadata": {},
   "outputs": [],
   "source": [
    "SELECT DISTINCT listing_office_name, cc_property_address_county,COUNT(listing_agent_name)\n",
    "FROM mls\n",
    "WHERE record_date_time >= dateadd(DAY, -365, getdate())\n",
    "GROUP BY listing_office_name, cc_property_address_county\n",
    "ORDER BY COUNT DESC;"
   ]
  },
  {
   "cell_type": "code",
   "execution_count": null,
   "metadata": {},
   "outputs": [],
   "source": [
    "SELECT d.listing_office_name, COUNT(e.listing_agent_name) AS listing_agent_name\n",
    "FROM mls d\n",
    "LEFT JOIN mls e ON e.listing_office_name = d.listing_agent_name\n",
    "GROUP BY d.listing_agent_name, d.listing_office_name"
   ]
  },
  {
   "cell_type": "code",
   "execution_count": null,
   "metadata": {},
   "outputs": [],
   "source": [
    "SELECT DISTINCT\n",
    "     cc_property_address_display_1, cc_property_address_display_2, zip, COUNT(cc_property_address_display_1)\n",
    "FROM\n",
    "    mls_reza\n",
    "WHERE record_date_time >= dateadd(DAY, -730, getdate())\n",
    "GROUP BY\n",
    "    mls_number, status, cc_property_address_display_1, cc_property_address_display_2, zip\n",
    "HAVING status = 'Active'\n",
    "ORDER BY COUNT DESC; "
   ]
  },
  {
   "cell_type": "code",
   "execution_count": null,
   "metadata": {},
   "outputs": [],
   "source": [
    "##\n",
    "SELECT DISTINCT listing_office_name, status, record_date_time, mls_number, cc_property_address_display_1\n",
    "FROM mls_reza\n",
    "WHERE listing_office_name LIKE 'The Lund Team, Inc' AND (status = 'Active' OR status = 'Pending')"
   ]
  },
  {
   "cell_type": "code",
   "execution_count": null,
   "metadata": {},
   "outputs": [],
   "source": []
  },
  {
   "cell_type": "code",
   "execution_count": null,
   "metadata": {},
   "outputs": [],
   "source": [
    "SELECT listing_office_name, MAX(record_date_time) AS active_date, mls_number \n",
    "FROM mls_reza \n",
    "WHERE listing_office_name LIKE 'The Lund Team, Inc' AND status = 'Active' \n",
    "GROUP BY mls_number, listing_office_name;\n"
   ]
  },
  {
   "cell_type": "code",
   "execution_count": null,
   "metadata": {},
   "outputs": [],
   "source": [
    "SELECT active.listing_office_name, MAX(active.record_date_time) AS pending_date, active.address\n",
    "FROM mls_reza active\n",
    "INNER JOIN mls_reza pending ON pending.listing_office_name = active.listing_office_name\n",
    "WHERE active.listing_office_name = 'The Lund Team, Inc' AND active.status = 'Active' AND pending.listing_office_name = 'The Lund Team, Inc' AND pending.status = 'Pending'\n",
    "GROUP BY active.listing_office_name, active.address\n",
    "LIMIT 10;\n"
   ]
  },
  {
   "cell_type": "code",
   "execution_count": null,
   "metadata": {},
   "outputs": [],
   "source": []
  },
  {
   "cell_type": "code",
   "execution_count": null,
   "metadata": {},
   "outputs": [],
   "source": []
  }
 ],
 "metadata": {
  "kernelspec": {
   "display_name": "Python 3",
   "language": "python",
   "name": "python3"
  },
  "language_info": {
   "codemirror_mode": {
    "name": "ipython",
    "version": 3
   },
   "file_extension": ".py",
   "mimetype": "text/x-python",
   "name": "python",
   "nbconvert_exporter": "python",
   "pygments_lexer": "ipython3",
   "version": "3.7.6"
  }
 },
 "nbformat": 4,
 "nbformat_minor": 4
}
