{
 "cells": [
  {
   "cell_type": "markdown",
   "metadata": {},
   "source": [
    "# Broker number of transaction past 12 months"
   ]
  },
  {
   "cell_type": "markdown",
   "metadata": {},
   "source": [
    "### Finding Counts for Agents with Brokers including Null\n"
   ]
  },
  {
   "cell_type": "code",
   "execution_count": null,
   "metadata": {},
   "outputs": [],
   "source": [
    "-- Finding Counts for Agents with Brokers including Null\n",
    "\n",
    "SELECT\n",
    "    related_lastname_primary, COUNT(lic_type), lic_type\n",
    "FROM\n",
    "    real_estate_agents\n",
    "GROUP BY\n",
    "    lic_type, related_lastname_primary\n",
    "HAVING lic_type = 'Salesperson'\n",
    "ORDER BY\n",
    "COUNT DESC; "
   ]
  },
  {
   "cell_type": "markdown",
   "metadata": {},
   "source": [
    "### Finding Counts for Agents with Brokers without Null\n"
   ]
  },
  {
   "cell_type": "code",
   "execution_count": null,
   "metadata": {},
   "outputs": [],
   "source": [
    "-- Finding Counts for Agents with Brokers not including Null\n",
    "\n",
    "SELECT\n",
    "    related_lastname_primary, COUNT(lic_type), lic_type\n",
    "FROM\n",
    "    real_estate_agents\n",
    "GROUP BY\n",
    "    lic_type, related_lastname_primary\n",
    "HAVING lic_type = 'Salesperson' AND related_lastname_primary != ''\n",
    "ORDER BY\n",
    "COUNT DESC;  "
   ]
  },
  {
   "cell_type": "markdown",
   "metadata": {},
   "source": [
    "### Last 365 days of Individual Brokers w/ Active Listings in U.S.\n"
   ]
  },
  {
   "cell_type": "code",
   "execution_count": null,
   "metadata": {},
   "outputs": [],
   "source": [
    "-- Last 365 of Individual Brokers w/ Active U.S.\n",
    "\n",
    "SELECT\n",
    "\tlisting_office_name, status, COUNT(listing_office_name)\n",
    "FROM mls_reza\n",
    "WHERE record_date_time >= dateadd(DAY, -365, getdate())\n",
    "GROUP BY listing_office_name, status\n",
    "HAVING status = 'Active'\n",
    "ORDER BY COUNT DESC;"
   ]
  },
  {
   "cell_type": "markdown",
   "metadata": {},
   "source": [
    "### Last 365 days of Individual Brokers w/ Pending Listings in U.S."
   ]
  },
  {
   "cell_type": "code",
   "execution_count": null,
   "metadata": {},
   "outputs": [],
   "source": [
    "-- Last 12 Months of Individual Brokers w/ Pending\n",
    "\n",
    "SELECT\n",
    "\tlisting_office_name, status, COUNT(listing_office_name)\n",
    "FROM mls_reza\n",
    "WHERE record_date_time >= dateadd(DAY, -365, getdate())\n",
    "GROUP BY listing_office_name, status\n",
    "HAVING status = 'Pending'\n",
    "ORDER BY COUNT DESC;"
   ]
  },
  {
   "cell_type": "markdown",
   "metadata": {},
   "source": [
    "### Last 365 Days of Individual Brokers w/ Active BY STATE"
   ]
  },
  {
   "cell_type": "code",
   "execution_count": null,
   "metadata": {},
   "outputs": [],
   "source": [
    "-- Last 365 Days of Individual Brokers w/ Active BY STATE\n",
    "\n",
    "SELECT\n",
    "\tlisting_office_name, state, status, COUNT(listing_office_name)\n",
    "FROM mls_reza\n",
    "WHERE record_date_time >= dateadd(DAY, -365, getdate())\n",
    "GROUP BY listing_office_name, status, state\n",
    "HAVING status = 'Active'\n",
    "ORDER BY COUNT DESC;"
   ]
  },
  {
   "cell_type": "markdown",
   "metadata": {},
   "source": [
    "### Last 365 Days of Individual Brokers w/ Pending BY STATE"
   ]
  },
  {
   "cell_type": "code",
   "execution_count": null,
   "metadata": {},
   "outputs": [],
   "source": [
    "-- Last 365 Days of Individual Brokers w/ Pending BY STATE\n",
    "\n",
    "SELECT\n",
    "\tlisting_office_name, state, status, COUNT(listing_office_name)\n",
    "FROM mls_reza\n",
    "WHERE record_date_time >= dateadd(DAY, -365, getdate())\n",
    "GROUP BY listing_office_name, status, state\n",
    "HAVING status = 'Pending'\n",
    "ORDER BY COUNT DESC;"
   ]
  },
  {
   "cell_type": "markdown",
   "metadata": {},
   "source": [
    "### Last 365 Days of Individual Brokers w/ ALL STATUS BY STATE"
   ]
  },
  {
   "cell_type": "code",
   "execution_count": null,
   "metadata": {},
   "outputs": [],
   "source": [
    "-- Last 365 Days of Individual Brokers w/ ALL STATUS BY STATE\n",
    "\n",
    "SELECT\n",
    "\tlisting_office_name, state, status, COUNT(status)\n",
    "FROM mls_reza\n",
    "WHERE record_date_time >= dateadd(DAY, -365, getdate())\n",
    "GROUP BY listing_office_name, state, status\n",
    "ORDER BY listing_office_name, state ASC;"
   ]
  },
  {
   "cell_type": "markdown",
   "metadata": {},
   "source": [
    "### Last 365 days of Individual Brokers w/ Active BY COUNTY"
   ]
  },
  {
   "cell_type": "code",
   "execution_count": null,
   "metadata": {},
   "outputs": [],
   "source": [
    "-- Last 365 Days of Individual Brokers w/ Active BY COUNTY\n",
    "\n",
    "SELECT\n",
    "\tlisting_office_name, cc_property_address_county, status, COUNT(listing_office_name)\n",
    "FROM mls_reza\n",
    "WHERE record_date_time >= dateadd(DAY, -365, getdate())\n",
    "GROUP BY listing_office_name, status, cc_property_address_county\n",
    "HAVING status = 'Active'\n",
    "ORDER BY COUNT DESC;"
   ]
  },
  {
   "cell_type": "markdown",
   "metadata": {},
   "source": [
    "### Last 365 Days of Individual Brokers w/ Pending BY COUNTY"
   ]
  },
  {
   "cell_type": "code",
   "execution_count": null,
   "metadata": {},
   "outputs": [],
   "source": [
    "-- Last 365 Days of Individual Brokers w/ Pending BY COUNTY\n",
    "\n",
    "SELECT\n",
    "\tlisting_office_name, cc_property_address_county, status, COUNT(listing_office_name)\n",
    "FROM mls_reza\n",
    "WHERE record_date_time >= dateadd(DAY, -365, getdate())\n",
    "GROUP BY listing_office_name, status, cc_property_address_county\n",
    "HAVING status = 'Pending'\n",
    "ORDER BY COUNT DESC;"
   ]
  },
  {
   "cell_type": "markdown",
   "metadata": {},
   "source": [
    "### Last 365 Days of Individual Brokers w/ ALL STATUS BY COUNTY"
   ]
  },
  {
   "cell_type": "code",
   "execution_count": null,
   "metadata": {},
   "outputs": [],
   "source": [
    "-- Last 365 Days of Individual Brokers w/ ALL STATUS BY COUNTY\n",
    "\n",
    "SELECT\n",
    "\tlisting_office_name, cc_property_address_county, status, COUNT(status)\n",
    "FROM mls_reza\n",
    "WHERE record_date_time >= dateadd(DAY, -365, getdate())\n",
    "GROUP BY listing_office_name, cc_property_address_county, status\n",
    "ORDER BY listing_office_name, cc_property_address_county ASC;"
   ]
  },
  {
   "cell_type": "markdown",
   "metadata": {},
   "source": [
    "# Broker GMV of all transactions"
   ]
  },
  {
   "cell_type": "markdown",
   "metadata": {},
   "source": [
    "### Last 365 Days of Individual Brokers w/ all status & GMV for Average and Sum BY COUNTY"
   ]
  },
  {
   "cell_type": "code",
   "execution_count": null,
   "metadata": {},
   "outputs": [],
   "source": [
    "-- Last 365 Days of Individual Brokers w/ all status & GMV AVG/SUM BY COUNTY\n",
    "\n",
    "SELECT\n",
    "\tlisting_office_name, cc_property_address_county, status, COUNT(listing_office_name), AVG(price), SUM(price)\n",
    "FROM mls_reza\n",
    "WHERE record_date_time >= dateadd(DAY, -365, getdate())\n",
    "GROUP BY listing_office_name, cc_property_address_county, status\n",
    "ORDER BY listing_office_name, cc_property_address_county ASC;"
   ]
  },
  {
   "cell_type": "markdown",
   "metadata": {},
   "source": [
    "### Last 365 Days of Individual Brokers w/ all status & GMV for Average and Sum BY STATE"
   ]
  },
  {
   "cell_type": "code",
   "execution_count": null,
   "metadata": {},
   "outputs": [],
   "source": [
    "-- Last 365 Days of Individual Brokers w/ all status & GMV AVG/SUM BY STATE\n",
    "\n",
    "SELECT\n",
    "\tlisting_office_name, state, status, COUNT(listing_office_name), AVG(price), SUM(price)\n",
    "FROM mls_reza\n",
    "WHERE record_date_time >= dateadd(DAY, -365, getdate())\n",
    "GROUP BY listing_office_name, state, status\n",
    "ORDER BY listing_office_name, state ASC;"
   ]
  }
 ],
 "metadata": {
  "kernelspec": {
   "display_name": "Python 3",
   "language": "python",
   "name": "python3"
  },
  "language_info": {
   "codemirror_mode": {
    "name": "ipython",
    "version": 3
   },
   "file_extension": ".py",
   "mimetype": "text/x-python",
   "name": "python",
   "nbconvert_exporter": "python",
   "pygments_lexer": "ipython3",
   "version": "3.7.6"
  }
 },
 "nbformat": 4,
 "nbformat_minor": 4
}
